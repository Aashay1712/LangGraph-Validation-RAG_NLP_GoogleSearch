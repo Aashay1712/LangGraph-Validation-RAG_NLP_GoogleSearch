{
 "cells": [
  {
   "cell_type": "code",
   "execution_count": 1,
   "id": "e999e0f1",
   "metadata": {},
   "outputs": [],
   "source": [
    "import os\n",
    "from dotenv import load_dotenv\n",
    "load_dotenv() \n",
    "GEMINI_API_KEY = os.getenv(\"GOOGLE_API_KEY\")\n"
   ]
  },
  {
   "cell_type": "code",
   "execution_count": 2,
   "id": "1a0c550f",
   "metadata": {},
   "outputs": [
    {
     "data": {
      "text/plain": [
       "'Okay, let\\'s dive into the fascinating world of Generative AI!\\n\\n**What is Generative AI?**\\n\\nAt its core, Generative AI refers to a type of artificial intelligence that can create new content.  Instead of just analyzing or predicting based on existing data, it can generate things like text, images, audio, video, code, and even 3D models.  Think of it as AI that can be creative.\\n\\n**How Does it Work?**\\n\\nThe magic behind Generative AI lies in machine learning, particularly deep learning models. Here\\'s a simplified breakdown:\\n\\n1.  **Training Data:**  Generative AI models are trained on massive datasets of existing content. For example, an image generation model might be trained on millions of images, or a text generation model on a huge corpus of text from books, articles, and websites.\\n\\n2.  **Learning Patterns:**  During training, the model learns the underlying patterns, structures, and relationships within the data. It identifies the features and characteristics that define the type of content it\\'s learning to generate.\\n\\n3.  **Generating New Content:**  Once trained, the model can be prompted with a starting point or instructions (e.g., \"Write a poem about autumn,\" or \"Generate an image of a cat wearing a hat\"). It then uses its learned knowledge to create new content that is similar to, but not identical to, the data it was trained on.\\n\\n**Key Technologies & Models:**\\n\\nSeveral architectures and models are commonly used in Generative AI:\\n\\n*   **Generative Adversarial Networks (GANs):** GANs involve two neural networks: a generator and a discriminator. The generator creates new content, while the discriminator tries to distinguish between the generated content and real content from the training data. This adversarial process pushes the generator to produce increasingly realistic and convincing outputs.  GANs are popular for image generation, video generation, and style transfer.\\n\\n*   **Variational Autoencoders (VAEs):** VAEs learn a compressed representation (latent space) of the training data.  They can then sample from this latent space to generate new data points. VAEs are often used for image generation and data augmentation.\\n\\n*   **Transformers:**  Transformers have revolutionized natural language processing (NLP) and are now widely used in other areas as well.  They excel at understanding context and relationships within sequences of data.  Examples include:\\n    *   **Large Language Models (LLMs):** Models like GPT-3, LaMDA, and others are based on the Transformer architecture and are trained on massive amounts of text. They can generate human-quality text, translate languages, write different kinds of creative content, and answer your questions in an informative way.\\n    *   **Diffusion Models:**  Diffusion models are state-of-the-art for high-quality image generation. They work by gradually adding noise to an image until it becomes pure noise, and then learning to reverse this process to generate an image from noise. Models like DALL-E 2, Stable Diffusion, and Midjourney are based on diffusion models.\\n\\n**Applications of Generative AI:**\\n\\nGenerative AI has a wide range of applications across various industries:\\n\\n*   **Content Creation:**\\n    *   **Text Generation:** Writing articles, blog posts, marketing copy, scripts, poems, code, and more.\\n    *   **Image Generation:** Creating realistic images, illustrations, artwork, and designs.\\n    *   **Music Generation:** Composing melodies, harmonies, and entire musical pieces.\\n    *   **Video Generation:** Creating short videos, animations, and visual effects.\\n*   **Design and Architecture:**\\n    *   Generating new product designs based on specific requirements.\\n    *   Creating architectural plans and visualizations.\\n*   **Drug Discovery:**\\n    *   Designing new drug candidates with specific properties.\\n    *   Predicting the efficacy and toxicity of potential drugs.\\n*   **Data Augmentation:**\\n    *   Generating synthetic data to increase the size and diversity of training datasets.  This can improve the performance of other AI models.\\n*   **Personalization:**\\n    *   Creating personalized content and experiences for individual users.\\n    *   Generating customized product recommendations.\\n*   **Gaming:**\\n    *   Creating realistic game environments and characters.\\n    *   Generating dynamic game content.\\n*   **Fashion:**\\n    *   Designing new clothing and accessory designs.\\n    *   Creating virtual fashion shows.\\n*   **Art and Entertainment:**\\n    *   Creating unique and original artwork.\\n    *   Generating interactive storytelling experiences.\\n*   **Code Generation:**\\n    *   Assisting developers by generating code snippets, entire functions, or even complete programs based on natural language descriptions.\\n\\n**Benefits of Generative AI:**\\n\\n*   **Increased Efficiency:** Automates content creation tasks, freeing up human creators to focus on more strategic and creative endeavors.\\n*   **Reduced Costs:** Can significantly reduce the cost of content creation, design, and development.\\n*   **Novelty and Innovation:**  Can generate entirely new and unexpected ideas, leading to breakthroughs in various fields.\\n*   **Personalization at Scale:** Enables the creation of highly personalized content and experiences for a large number of users.\\n*   **Accessibility:**  Democratizes content creation, allowing individuals with limited skills or resources to create high-quality content.\\n\\n**Challenges and Concerns:**\\n\\n*   **Bias and Fairness:** Generative AI models can inherit biases from the training data, leading to discriminatory or unfair outputs.\\n*   **Copyright and Ownership:**  The ownership of content generated by AI is a complex legal issue that is still being debated.\\n*   **Misinformation and Deepfakes:**  Generative AI can be used to create realistic but false content, such as deepfakes, which can be used to spread misinformation and manipulate public opinion.\\n*   **Job Displacement:**  There are concerns that Generative AI could automate certain jobs, leading to job displacement in some industries.\\n*   **Ethical Considerations:**  Raises ethical questions about the responsibility of AI creators and the potential for misuse of the technology.\\n*   **Hallucinations:** LLMs can sometimes \"hallucinate\" or generate information that is factually incorrect or nonsensical.\\n*   **Computational Resources:** Training and running large generative AI models can be computationally expensive, requiring significant resources.\\n\\n**The Future of Generative AI:**\\n\\nGenerative AI is a rapidly evolving field, and its future is full of potential.  We can expect to see:\\n\\n*   **More sophisticated models:**  Models will become even more powerful and capable of generating more realistic and complex content.\\n*   **Increased adoption across industries:**  Generative AI will be integrated into more and more industries, transforming the way we work and create.\\n*   **New applications and use cases:**  We will see the emergence of new and unexpected applications of Generative AI that we cannot even imagine today.\\n*   **Improved tools and platforms:**  Easier-to-use tools and platforms will make Generative AI accessible to a wider range of users.\\n*   **Greater focus on ethical considerations:**  There will be a growing focus on addressing the ethical challenges and risks associated with Generative AI.\\n*   **Multimodal Generation:** Models that can generate content across multiple modalities (e.g., text and images simultaneously) will become more prevalent.\\n\\n**In Conclusion:**\\n\\nGenerative AI is a powerful technology with the potential to revolutionize many aspects of our lives.  It\\'s important to understand its capabilities, limitations, and ethical implications as it continues to evolve.  By addressing the challenges and harnessing its potential responsibly, we can unlock the full benefits of Generative AI and create a more innovative and creative future.'"
      ]
     },
     "execution_count": 2,
     "metadata": {},
     "output_type": "execute_result"
    }
   ],
   "source": [
    "from langchain_google_genai import ChatGoogleGenerativeAI\n",
    "\n",
    "llm = ChatGoogleGenerativeAI(model=\"gemini-2.0-flash-001\")\n",
    "response = llm.invoke(\"tell me about Genererative AI\")\n",
    "response.content"
   ]
  },
  {
   "cell_type": "code",
   "execution_count": 3,
   "id": "ac99821e",
   "metadata": {},
   "outputs": [],
   "source": [
    "os.environ['HF_TOKEN']=os.getenv(\"HF_TOKEN\")\n",
    "os.environ['SERPER_API_KEY']=os.getenv(\"SERPER_API_KEY\")"
   ]
  },
  {
   "cell_type": "code",
   "execution_count": null,
   "id": "519b11ea",
   "metadata": {},
   "outputs": [],
   "source": []
  },
  {
   "cell_type": "code",
   "execution_count": 4,
   "id": "5ee1277c",
   "metadata": {},
   "outputs": [
    {
     "name": "stderr",
     "output_type": "stream",
     "text": [
      "d:\\Agentic AI\\my_env\\Lib\\site-packages\\tqdm\\auto.py:21: TqdmWarning: IProgress not found. Please update jupyter and ipywidgets. See https://ipywidgets.readthedocs.io/en/stable/user_install.html\n",
      "  from .autonotebook import tqdm as notebook_tqdm\n"
     ]
    }
   ],
   "source": [
    "from langchain_huggingface import HuggingFaceEmbeddings\n",
    "embedding_model = HuggingFaceEmbeddings(model_name=\"all-MiniLM-L6-v2\")"
   ]
  },
  {
   "cell_type": "code",
   "execution_count": 5,
   "id": "471ed776",
   "metadata": {},
   "outputs": [],
   "source": [
    "from langchain_community.document_loaders import PyPDFLoader\n",
    "\n",
    "loader = PyPDFLoader(\"D:\\Agentic AI\\Assignment_LangGraph3\\ed3book.pdf\")\n"
   ]
  },
  {
   "cell_type": "code",
   "execution_count": 6,
   "id": "34280330",
   "metadata": {},
   "outputs": [],
   "source": [
    "documents =  loader.load()"
   ]
  },
  {
   "cell_type": "code",
   "execution_count": 7,
   "id": "39dcd5bc",
   "metadata": {},
   "outputs": [
    {
     "name": "stdout",
     "output_type": "stream",
     "text": [
      "<class 'list'>\n"
     ]
    }
   ],
   "source": [
    "print(type(documents))"
   ]
  },
  {
   "cell_type": "code",
   "execution_count": 8,
   "id": "465b5f03",
   "metadata": {},
   "outputs": [],
   "source": [
    "from langchain_text_splitters import RecursiveCharacterTextSplitter\n",
    "text_splitter = RecursiveCharacterTextSplitter(chunk_size=1000, chunk_overlap=400)\n",
    "split_documents = text_splitter.split_documents(documents)"
   ]
  },
  {
   "cell_type": "code",
   "execution_count": 9,
   "id": "8d29200d",
   "metadata": {},
   "outputs": [
    {
     "name": "stdout",
     "output_type": "stream",
     "text": [
      "Number of document chunks after splitting: 2904\n"
     ]
    }
   ],
   "source": [
    "print(f\"Number of document chunks after splitting: {len(split_documents)}\")\n"
   ]
  },
  {
   "cell_type": "code",
   "execution_count": 10,
   "id": "98ab7347",
   "metadata": {},
   "outputs": [],
   "source": [
    "from langchain.vectorstores import Chroma\n",
    "vector_store = Chroma.from_documents(\n",
    "    documents=split_documents,\n",
    "    embedding=embedding_model,\n",
    "    collection_name=\"NLP_Collection\"\n",
    ")\n"
   ]
  },
  {
   "cell_type": "code",
   "execution_count": 11,
   "id": "6c092965",
   "metadata": {},
   "outputs": [
    {
     "name": "stdout",
     "output_type": "stream",
     "text": [
      "Number of documents in vector store: 2904\n"
     ]
    }
   ],
   "source": [
    "print(f\"Number of documents in vector store: {vector_store._collection.count()}\")"
   ]
  },
  {
   "cell_type": "code",
   "execution_count": 12,
   "id": "a88a71e3",
   "metadata": {},
   "outputs": [],
   "source": [
    "retriever = vector_store.as_retriever(search_kwargs={\"k\": 3})\n",
    "response  = retriever.invoke(\"What is NLP\")"
   ]
  },
  {
   "cell_type": "code",
   "execution_count": 13,
   "id": "869e74b1",
   "metadata": {},
   "outputs": [
    {
     "name": "stdout",
     "output_type": "stream",
     "text": [
      "speciﬁc language, at a speciﬁc time, in a speciﬁc place, for a speciﬁc function.\n",
      "Perhaps the most important dimension of variation is the language. NLP algo-\n",
      "rithms are most useful when they apply across many languages. The world has 7097\n",
      "languages at the time of this writing, according to the online Ethnologue catalog\n",
      "(Simons and Fennig, 2018). It is important to test algorithms on more than one lan-\n",
      "guage, and particularly on languages with different properties; by contrast there is\n",
      "an unfortunate current tendency for NLP algorithms to be developed or tested just\n",
      "on English (Bender, 2019). Even when algorithms are developed beyond English,\n",
      "they tend to be developed for the ofﬁcial languages of large industrialized nations\n",
      "(Chinese, Spanish, Japanese, German etc.), but we don’t want to limit tools to just\n",
      "these few languages. Furthermore, most languages also have multiple varieties, of-\n",
      "ten spoken in different regions or by different social groups. Thus, for example,\n",
      "1979).\n",
      "Nonetheless, logistic regression didn’t become common in natural language pro-\n",
      "cessing until the 1990s, when it seems to have appeared simultaneously from two\n",
      "directions. The ﬁrst source was the neighboring ﬁelds of information retrieval and\n",
      "speech processing, both of which had made use of regression, and both of which\n",
      "lent many other statistical techniques to NLP. Indeed a very early use of logistic\n",
      "regression for document routing was one of the ﬁrst NLP applications to use (LSI)\n",
      "embeddings as word representations (Sch¨utze et al., 1995).\n",
      "At the same time in the early 1990s logistic regression was developed and ap-\n",
      "plied to NLP at IBM Research under the name maximum entropy modeling ormaximum\n",
      "entropy\n",
      "maxent (Berger et al., 1996), seemingly independent of the statistical literature. Un-\n",
      "der that name it was applied to language modeling (Rosenfeld, 1996), part-of-speech\n",
      "tagging (Ratnaparkhi, 1996), parsing (Ratnaparkhi, 1997), coreference resolution\n",
      "Part I\n",
      "FUNDAMENTAL ALGORITHMS FOR\n",
      "NLP\n",
      "In the ﬁrst part of the book we introduce the fundamental suite of algorithmic\n",
      "tools that make up the modern neural language model that is the heart of end-to-end\n",
      "NLP systems. We begin with tokenization and preprocessing, as well as useful algo-\n",
      "rithms like computing edit distance, and then proceed to the tasks of classiﬁcation,\n",
      "logistic regression, neural networks, proceeding through feedforward networks, re-\n",
      "current networks, and then transformers. We’ll also see the role of embeddings as a\n",
      "model of word meaning.\n"
     ]
    }
   ],
   "source": [
    "for result in response:\n",
    "    print(result.page_content)"
   ]
  },
  {
   "cell_type": "markdown",
   "id": "7c0385d0",
   "metadata": {},
   "source": [
    "## Setting up web tool"
   ]
  },
  {
   "cell_type": "code",
   "execution_count": 14,
   "id": "eb62b536",
   "metadata": {},
   "outputs": [
    {
     "data": {
      "text/plain": [
       "\"Top Attractions in New Delhi ; 1. Qutub Minar · 4.5. 13,507 ; 2. Swaminarayan Akshardham · 4.6. 12,058 ; 3. Humayun's Tomb · 4.5. 10,593 ; 4. Gurudwara Bangla Sahib. Seven cities in one · Taj Mahal · New Delhi Parliament House (Sansad Bhavan) · Qutub Minar · Lotus Temple (Bahá'í House of Worship) · India Gate · Humayun's Tomb · Red ... Discover the best attractions in Delhi including Mehrauli Archaeological Park, Humayun's Tomb, and Hazrat Nizam-ud-din Dargah. Tourist Places: Akshardham Temple, Azad Hind Gram, Lotus Temple, Birla Mandir, Dilli Haat, Dilli Haat INA, Dilli Haat Pitampura, Dilli Haat Janakpuri, Garden ... 114 Places To Visit In Delhi · 1. India Gate · 2. Red Fort · 3. Qutub Minar · 4. Lotus Temple. Lotus Temple. Instagram Worthy 4.6 /5. 13 ... Explore the Top 10 Best Places to Visit in Delhi in 2025 with this ultimate India travel guide! From the majestic Red Fort to the bustling ... Museums · Ghalib Museum · Indian War Memorial Museum · Pradhan Mantri Sangrahalaya · National Museum · National Rail Museum · National Museum of Natural History ... Best Places to Visit in Delhi · 1. Red Fort (Lal Qila) · 2. Qutub Minar · 3. Humayun's Tomb · 4. India Gate · 5. Lotus Temple · 6. Jama Masjid · 7. Akshardham Temple. When talking about places to visit in Delhi, a lot of places come to our minds. Examples include Connaught Place, Chandni Chowk and Hauz Khas. Places to Visit in Delhi · Sri Gurudwara Bangla Sahib · Akshardham Temple · India Gate · Lotus Temple · Jantar Mantar In Delhi · Humayun's Tomb · Jama Masjid in ...\""
      ]
     },
     "execution_count": 14,
     "metadata": {},
     "output_type": "execute_result"
    }
   ],
   "source": [
    "from langchain_community.utilities import GoogleSerperAPIWrapper\n",
    "search = GoogleSerperAPIWrapper()\n",
    "search.run(\"What are the tourist place in delhi\")"
   ]
  },
  {
   "cell_type": "markdown",
   "id": "1913021b",
   "metadata": {},
   "source": [
    "### Defining Pydantic Model"
   ]
  },
  {
   "cell_type": "code",
   "execution_count": 15,
   "id": "70fd1c52",
   "metadata": {},
   "outputs": [],
   "source": [
    "from pydantic import BaseModel, Field\n",
    "\n",
    "class OutputPasser(BaseModel):\n",
    "    topic:str=Field(description=\"Topic selection from the user query\")\n",
    "    reasoning:str=Field(description=\"Reasoning behind the topic selection\")"
   ]
  },
  {
   "cell_type": "code",
   "execution_count": 16,
   "id": "e845128b",
   "metadata": {},
   "outputs": [
    {
     "data": {
      "text/plain": [
       "'The output should be formatted as a JSON instance that conforms to the JSON schema below.\\n\\nAs an example, for the schema {\"properties\": {\"foo\": {\"title\": \"Foo\", \"description\": \"a list of strings\", \"type\": \"array\", \"items\": {\"type\": \"string\"}}}, \"required\": [\"foo\"]}\\nthe object {\"foo\": [\"bar\", \"baz\"]} is a well-formatted instance of the schema. The object {\"properties\": {\"foo\": [\"bar\", \"baz\"]}} is not well-formatted.\\n\\nHere is the output schema:\\n```\\n{\"properties\": {\"topic\": {\"description\": \"Topic selection from the user query\", \"title\": \"Topic\", \"type\": \"string\"}, \"reasoning\": {\"description\": \"Reasoning behind the topic selection\", \"title\": \"Reasoning\", \"type\": \"string\"}}, \"required\": [\"topic\", \"reasoning\"]}\\n```'"
      ]
     },
     "execution_count": 16,
     "metadata": {},
     "output_type": "execute_result"
    }
   ],
   "source": [
    "from langchain.output_parsers import PydanticOutputParser\n",
    "parser = PydanticOutputParser(pydantic_object=OutputPasser)\n",
    "parser.get_format_instructions()"
   ]
  },
  {
   "cell_type": "markdown",
   "id": "bf04bfae",
   "metadata": {},
   "source": [
    "## Defining type of State"
   ]
  },
  {
   "cell_type": "code",
   "execution_count": 67,
   "id": "75040c92",
   "metadata": {},
   "outputs": [],
   "source": [
    "import operator\n",
    "from typing import List\n",
    "from typing import TypedDict, Annotated, Sequence\n",
    "from langchain_core.messages import BaseMessage\n",
    "\n",
    "class AgentState(TypedDict):\n",
    "    messages: Annotated[Sequence[BaseMessage], operator.add]"
   ]
  },
  {
   "cell_type": "markdown",
   "id": "ab705abb",
   "metadata": {},
   "source": [
    "## Defining Agents and nodes - "
   ]
  },
  {
   "cell_type": "code",
   "execution_count": 68,
   "id": "8501d655",
   "metadata": {},
   "outputs": [],
   "source": [
    "# Supervisor Function\n",
    "from langchain.prompts import PromptTemplate\n",
    "def supervisor(state:AgentState):\n",
    "    user_question = state['messages'][0]\n",
    "    print(\"User Question\", user_question)\n",
    "\n",
    "    template = \"\"\"\n",
    "    Your task is to classify the given user query into one of the following related categories: [NLP,LLM, Latest]. If user question is about \n",
    "    Natural language processing(NLP) then NLP, if user question is generic then LLM and if user question is about some recent thing which you don't know then Latest.\n",
    "    Only respond with the category name and nothing else.\n",
    "    Strictly Only respond with one of the category names: NLP, LLM, or Latest.\n",
    "\n",
    "    user question :{user_question}\n",
    "    {format_instructions}\n",
    "    \"\"\"\n",
    "    prompt = PromptTemplate(\n",
    "        template=template,\n",
    "        input_variables=[\"user_question\"],\n",
    "        partial_variables={\"format_instructions\":parser.get_format_instructions()}\n",
    "    )\n",
    "    \n",
    "    chain = prompt|llm|parser\n",
    "    response = chain.invoke({\"user_question\":user_question})\n",
    "    print(\"Response from supervisor chain\", response)\n",
    "\n",
    "    return {\"messages\":[response.topic]}\n",
    "    "
   ]
  },
  {
   "cell_type": "code",
   "execution_count": 69,
   "id": "bfeb5e64",
   "metadata": {},
   "outputs": [],
   "source": [
    "# Defining router function for supervisor\n",
    "def supervisor_router(state:AgentState):\n",
    "    print(\"Supervisor router is on duty\")\n",
    "    last_message = state['messages'][-1]\n",
    "    print(\"last message\",last_message)\n",
    "    \n",
    "    if \"nlp\" in last_message.lower():\n",
    "        return \"RAG\"\n",
    "    elif \"llm\" in last_message.lower():\n",
    "        return \"LLM\"\n",
    "    else:\n",
    "        return \"WEB\""
   ]
  },
  {
   "cell_type": "code",
   "execution_count": 70,
   "id": "c23852f1",
   "metadata": {},
   "outputs": [],
   "source": [
    "def format_docs(docs):\n",
    "    return \"\\n\\n\".join(doc.page_content for doc in docs)"
   ]
  },
  {
   "cell_type": "code",
   "execution_count": 93,
   "id": "8f685026",
   "metadata": {},
   "outputs": [],
   "source": [
    "# RAG Function\n",
    "from langchain_core.output_parsers import StrOutputParser\n",
    "from langchain_core.runnables import RunnablePassthrough\n",
    "def NLP_RAG(state:AgentState):\n",
    "    print(\"-------------NLP RAG Call-------------\")\n",
    "    user_question = state['messages'][0]\n",
    "    print(\"User Question\", user_question)\n",
    "    template = \"\"\" You are an assistant for question-answering tasks. Use the following pieces of retrieved context to answer the question. \n",
    "    If you don't know the answer, just say that you don't know. Use three sentences maximum and keep the answer concise.\n",
    "    Question: {user_question}\n",
    "    Context: {context}\n",
    "    Answer:\n",
    "    \"\"\"\n",
    "    prompt  = PromptTemplate(\n",
    "        template = template,\n",
    "        input_variables = ['user_question','context']\n",
    "    )\n",
    "    rag_chain = (\n",
    "        {\"context\":retriever|format_docs,\"user_question\":RunnablePassthrough()}\n",
    "        |prompt\n",
    "        |llm\n",
    "        |StrOutputParser\n",
    "    )\n",
    "    response  = rag_chain.invoke(user_question)\n",
    "    print(\"Response from NLP RAG\",response)\n",
    "\n",
    "    return {\"messages\":[response]}\n"
   ]
  },
  {
   "cell_type": "code",
   "execution_count": 72,
   "id": "14e61aa8",
   "metadata": {},
   "outputs": [],
   "source": [
    "def LLM_call(state:AgentState):\n",
    "    print(\"-------------LLM Call-------------\")\n",
    "    user_question = state['messages'][0]\n",
    "    print(\"User Question\", user_question)\n",
    "    response = llm.invoke(user_question)\n",
    "    print(\"Response from LLM call\", response.content)\n",
    "\n",
    "    return {\"messages\":[response.content]}\n",
    "    "
   ]
  },
  {
   "cell_type": "code",
   "execution_count": 73,
   "id": "a40f998b",
   "metadata": {},
   "outputs": [],
   "source": [
    "def WEB_Call(state:AgentState):\n",
    "    print(\"-------------WEB Call-------------\")\n",
    "    user_question = state['messages'][0]\n",
    "    print(\"User Question\", user_question)\n",
    "\n",
    "    response = search.run(user_question)\n",
    "\n",
    "    return {\"messages\":[response]}\n"
   ]
  },
  {
   "cell_type": "code",
   "execution_count": 74,
   "id": "8784f204",
   "metadata": {},
   "outputs": [],
   "source": [
    "from pydantic import BaseModel, Field\n",
    "\n",
    "class ValidationOutputPasser(BaseModel):\n",
    "    Validation_Result:str=Field(description=\"Result from the overall validation of the output\")\n",
    "    Validation_reasoning:str=Field(description=\"Reasoning behind the validation od output\")"
   ]
  },
  {
   "cell_type": "code",
   "execution_count": 75,
   "id": "3e1063e8",
   "metadata": {},
   "outputs": [
    {
     "data": {
      "text/plain": [
       "'The output should be formatted as a JSON instance that conforms to the JSON schema below.\\n\\nAs an example, for the schema {\"properties\": {\"foo\": {\"title\": \"Foo\", \"description\": \"a list of strings\", \"type\": \"array\", \"items\": {\"type\": \"string\"}}}, \"required\": [\"foo\"]}\\nthe object {\"foo\": [\"bar\", \"baz\"]} is a well-formatted instance of the schema. The object {\"properties\": {\"foo\": [\"bar\", \"baz\"]}} is not well-formatted.\\n\\nHere is the output schema:\\n```\\n{\"properties\": {\"Validation_Result\": {\"description\": \"Result from the overall validation of the output\", \"title\": \"Validation Result\", \"type\": \"string\"}, \"Validation_reasoning\": {\"description\": \"Reasoning behind the validation od output\", \"title\": \"Validation Reasoning\", \"type\": \"string\"}}, \"required\": [\"Validation_Result\", \"Validation_reasoning\"]}\\n```'"
      ]
     },
     "execution_count": 75,
     "metadata": {},
     "output_type": "execute_result"
    }
   ],
   "source": [
    "from langchain.output_parsers import PydanticOutputParser\n",
    "Validation_Parser = PydanticOutputParser(pydantic_object=ValidationOutputPasser)\n",
    "Validation_Parser.get_format_instructions()"
   ]
  },
  {
   "cell_type": "code",
   "execution_count": 76,
   "id": "b315ebfd",
   "metadata": {},
   "outputs": [],
   "source": [
    "from langchain.prompts import PromptTemplate\n",
    "def Validation_Process(state:AgentState):\n",
    "    print(\"-------Validation process has started---------\")\n",
    "    user_question = state['messages'][0]\n",
    "    system_answer = state['messages'][-1]\n",
    "\n",
    "    template= \"\"\"\n",
    "    Your task is to check if the response is related to the user question. \n",
    "    Only respond with Apporved or Denied and nothing else.\n",
    "\n",
    "    User query: {user_question}\n",
    "    response: {system_answer}\n",
    "    {format_instructions}\n",
    "    \"\"\"\n",
    "    prompt = PromptTemplate(\n",
    "        template = template,\n",
    "        input_variables=['user_question','system_answer'],\n",
    "        partial_variables={\"format_instructions\":Validation_Parser.get_format_instructions()}\n",
    "    )\n",
    "    validation_chain = prompt|llm|Validation_Parser\n",
    "\n",
    "    result = validation_chain.invoke({\"user_question\":user_question, \"system_answer\":system_answer})\n",
    "    print(\"Result from validation process\", result)\n",
    "\n",
    "    return {\"messages\":[result.Validation_Result]}\n",
    "    "
   ]
  },
  {
   "cell_type": "code",
   "execution_count": 87,
   "id": "d9303812",
   "metadata": {},
   "outputs": [],
   "source": [
    "# Defining router function for validation node\n",
    "def validation_router(state:AgentState):\n",
    "    print(\"Validation router is on duty\")\n",
    "    last_message = state['messages'][-1]\n",
    "    if \"approved\" in last_message.lower():\n",
    "        return \"Approved\"\n",
    "    else:\n",
    "        return \"Denied\""
   ]
  },
  {
   "cell_type": "code",
   "execution_count": 78,
   "id": "ec576020",
   "metadata": {},
   "outputs": [],
   "source": [
    "def Final_Output(state:AgentState):\n",
    "    print(\"---------Final output---------\")\n",
    "    print(f\"Here is the final output for the user question {state['messages'][0]}:---> {state['messages'][-1]}\")"
   ]
  },
  {
   "cell_type": "markdown",
   "id": "a8a6f18e",
   "metadata": {},
   "source": [
    "## Defining Worflow using StateGraph"
   ]
  },
  {
   "cell_type": "code",
   "execution_count": 85,
   "id": "2655019c",
   "metadata": {},
   "outputs": [],
   "source": [
    "from langgraph.graph import StateGraph,END, START\n",
    "WorkFlow = StateGraph(AgentState)"
   ]
  },
  {
   "cell_type": "code",
   "execution_count": 86,
   "id": "76872f39",
   "metadata": {},
   "outputs": [
    {
     "data": {
      "text/plain": [
       "<langgraph.graph.state.StateGraph at 0x204a14f4450>"
      ]
     },
     "execution_count": 86,
     "metadata": {},
     "output_type": "execute_result"
    }
   ],
   "source": [
    "# Adding Nodes\n",
    "WorkFlow.add_node(\"Supervisor\",supervisor)\n",
    "WorkFlow.add_node(\"RAG Call\",NLP_RAG)\n",
    "WorkFlow.add_node(\"LLM Call\",LLM_call)\n",
    "WorkFlow.add_node(\"WEB Call\",WEB_Call)\n",
    "WorkFlow.add_node(\"Validation Node\",Validation_Process)\n",
    "WorkFlow.add_node(\"Final output\",Final_Output)\n",
    "WorkFlow.set_entry_point(\"Supervisor\")\n"
   ]
  },
  {
   "cell_type": "code",
   "execution_count": 88,
   "id": "4427ca79",
   "metadata": {},
   "outputs": [
    {
     "data": {
      "text/plain": [
       "<langgraph.graph.state.StateGraph at 0x204a14f4450>"
      ]
     },
     "execution_count": 88,
     "metadata": {},
     "output_type": "execute_result"
    }
   ],
   "source": [
    "# Adding edges\n",
    "WorkFlow.add_conditional_edges(\n",
    "    \"Supervisor\",\n",
    "    supervisor_router,\n",
    "    {\n",
    "        \"RAG\":\"RAG Call\",\n",
    "        \"WEB\":\"WEB Call\",\n",
    "        \"LLM\":\"LLM Call\"\n",
    "    }\n",
    ")\n"
   ]
  },
  {
   "cell_type": "code",
   "execution_count": 89,
   "id": "9a43799a",
   "metadata": {},
   "outputs": [
    {
     "data": {
      "text/plain": [
       "<langgraph.graph.state.StateGraph at 0x204a14f4450>"
      ]
     },
     "execution_count": 89,
     "metadata": {},
     "output_type": "execute_result"
    }
   ],
   "source": [
    "WorkFlow.add_edge(\"RAG Call\",\"Validation Node\")\n",
    "WorkFlow.add_edge(\"WEB Call\",\"Validation Node\")\n",
    "WorkFlow.add_edge(\"LLM Call\",\"Validation Node\")\n",
    "\n",
    "WorkFlow.add_conditional_edges(\n",
    "    \"Validation Node\",\n",
    "    validation_router,\n",
    "    {\n",
    "        \"Approved\":\"Final output\",\n",
    "        \"Denied\":\"Supervisor\"\n",
    "    }\n",
    ")\n",
    "WorkFlow.add_edge(\"Final output\",END)"
   ]
  },
  {
   "cell_type": "code",
   "execution_count": 90,
   "id": "33f082fb",
   "metadata": {},
   "outputs": [],
   "source": [
    "# Compiling the Graph\n",
    "app = WorkFlow.compile()\n"
   ]
  },
  {
   "cell_type": "code",
   "execution_count": 34,
   "id": "6796d7a2",
   "metadata": {},
   "outputs": [
    {
     "data": {
      "image/png": "[encoded data removed]",
      "text/plain": [
       "<langgraph.graph.state.CompiledStateGraph object at 0x00000204A145FDD0>"
      ]
     },
     "execution_count": 34,
     "metadata": {},
     "output_type": "execute_result"
    }
   ],
   "source": [
    "app"
   ]
  },
  {
   "cell_type": "markdown",
   "id": "dd0a111f",
   "metadata": {},
   "source": []
  },
  {
   "cell_type": "code",
   "execution_count": 91,
   "id": "e9560cfc",
   "metadata": {},
   "outputs": [
    {
     "name": "stdout",
     "output_type": "stream",
     "text": [
      "User Question Hello\n",
      "Response from supervisor chain topic='LLM' reasoning=\"The user query is a generic greeting and doesn't pertain to NLP or any specific recent topic.\"\n",
      "Supervisor router is on duty\n",
      "last message LLM\n",
      "-------------LLM Call-------------\n",
      "User Question Hello\n",
      "Response from LLM call Hello there! How can I help you today?\n",
      "-------Validation process has started---------\n",
      "Result from validation process Validation_Result='Approved' Validation_reasoning=\"The response acknowledges the user's greeting and offers assistance, indicating a direct relation to the user's query.\"\n",
      "Validation router is on duty\n",
      "---------Final output---------\n",
      "Here is the final output for the user question Hello:---> Approved\n"
     ]
    },
    {
     "data": {
      "text/plain": [
       "{'messages': ['Hello',\n",
       "  'LLM',\n",
       "  'Hello there! How can I help you today?',\n",
       "  'Approved']}"
      ]
     },
     "execution_count": 91,
     "metadata": {},
     "output_type": "execute_result"
    }
   ],
   "source": [
    "state = {\"messages\": [\"Hello\"]}\n",
    "app.invoke(state)"
   ]
  },
  {
   "cell_type": "code",
   "execution_count": 92,
   "id": "5af455ab",
   "metadata": {},
   "outputs": [
    {
     "name": "stdout",
     "output_type": "stream",
     "text": [
      "User Question What is Natural language processing\n",
      "Response from supervisor chain topic='NLP' reasoning='The user question is directly asking about the definition of Natural Language Processing.'\n",
      "Supervisor router is on duty\n",
      "last message NLP\n",
      "-------------NLP RAG Call-------------\n",
      "User Question What is Natural language processing\n"
     ]
    },
    {
     "ename": "KeyError",
     "evalue": "\"Input to PromptTemplate is missing variables {'user_question'}.  Expected: ['context', 'user_question'] Received: ['context', 'question']\\nNote: if you intended {user_question} to be part of the string and not a variable, please escape it with double curly braces like: '{{user_question}}'.\\nFor troubleshooting, visit: https://python.langchain.com/docs/troubleshooting/errors/INVALID_PROMPT_INPUT \"",
     "output_type": "error",
     "traceback": [
      "\u001b[31m---------------------------------------------------------------------------\u001b[39m",
      "\u001b[31mKeyError\u001b[39m                                  Traceback (most recent call last)",
      "\u001b[36mCell\u001b[39m\u001b[36m \u001b[39m\u001b[32mIn[92]\u001b[39m\u001b[32m, line 2\u001b[39m\n\u001b[32m      1\u001b[39m state = {\u001b[33m\"\u001b[39m\u001b[33mmessages\u001b[39m\u001b[33m\"\u001b[39m: [\u001b[33m\"\u001b[39m\u001b[33mWhat is Natural language processing\u001b[39m\u001b[33m\"\u001b[39m]}\n\u001b[32m----> \u001b[39m\u001b[32m2\u001b[39m app.invoke(state)\n",
      "\u001b[36mFile \u001b[39m\u001b[32md:\\Agentic AI\\my_env\\Lib\\site-packages\\langgraph\\pregel\\__init__.py:2719\u001b[39m, in \u001b[36mPregel.invoke\u001b[39m\u001b[34m(self, input, config, stream_mode, output_keys, interrupt_before, interrupt_after, checkpoint_during, debug, **kwargs)\u001b[39m\n\u001b[32m   2716\u001b[39m chunks: \u001b[38;5;28mlist\u001b[39m[Union[\u001b[38;5;28mdict\u001b[39m[\u001b[38;5;28mstr\u001b[39m, Any], Any]] = []\n\u001b[32m   2717\u001b[39m interrupts: \u001b[38;5;28mlist\u001b[39m[Interrupt] = []\n\u001b[32m-> \u001b[39m\u001b[32m2719\u001b[39m \u001b[38;5;28;01mfor\u001b[39;00m chunk \u001b[38;5;129;01min\u001b[39;00m \u001b[38;5;28mself\u001b[39m.stream(\n\u001b[32m   2720\u001b[39m     \u001b[38;5;28minput\u001b[39m,\n\u001b[32m   2721\u001b[39m     config,\n\u001b[32m   2722\u001b[39m     stream_mode=stream_mode,\n\u001b[32m   2723\u001b[39m     output_keys=output_keys,\n\u001b[32m   2724\u001b[39m     interrupt_before=interrupt_before,\n\u001b[32m   2725\u001b[39m     interrupt_after=interrupt_after,\n\u001b[32m   2726\u001b[39m     checkpoint_during=checkpoint_during,\n\u001b[32m   2727\u001b[39m     debug=debug,\n\u001b[32m   2728\u001b[39m     **kwargs,\n\u001b[32m   2729\u001b[39m ):\n\u001b[32m   2730\u001b[39m     \u001b[38;5;28;01mif\u001b[39;00m stream_mode == \u001b[33m\"\u001b[39m\u001b[33mvalues\u001b[39m\u001b[33m\"\u001b[39m:\n\u001b[32m   2731\u001b[39m         \u001b[38;5;28;01mif\u001b[39;00m (\n\u001b[32m   2732\u001b[39m             \u001b[38;5;28misinstance\u001b[39m(chunk, \u001b[38;5;28mdict\u001b[39m)\n\u001b[32m   2733\u001b[39m             \u001b[38;5;129;01mand\u001b[39;00m (ints := chunk.get(INTERRUPT)) \u001b[38;5;129;01mis\u001b[39;00m \u001b[38;5;129;01mnot\u001b[39;00m \u001b[38;5;28;01mNone\u001b[39;00m\n\u001b[32m   2734\u001b[39m         ):\n",
      "\u001b[36mFile \u001b[39m\u001b[32md:\\Agentic AI\\my_env\\Lib\\site-packages\\langgraph\\pregel\\__init__.py:2436\u001b[39m, in \u001b[36mPregel.stream\u001b[39m\u001b[34m(self, input, config, stream_mode, output_keys, interrupt_before, interrupt_after, checkpoint_during, debug, subgraphs)\u001b[39m\n\u001b[32m   2434\u001b[39m         \u001b[38;5;28;01mfor\u001b[39;00m task \u001b[38;5;129;01min\u001b[39;00m loop.match_cached_writes():\n\u001b[32m   2435\u001b[39m             loop.output_writes(task.id, task.writes, cached=\u001b[38;5;28;01mTrue\u001b[39;00m)\n\u001b[32m-> \u001b[39m\u001b[32m2436\u001b[39m         \u001b[38;5;28;01mfor\u001b[39;00m _ \u001b[38;5;129;01min\u001b[39;00m runner.tick(\n\u001b[32m   2437\u001b[39m             [t \u001b[38;5;28;01mfor\u001b[39;00m t \u001b[38;5;129;01min\u001b[39;00m loop.tasks.values() \u001b[38;5;28;01mif\u001b[39;00m \u001b[38;5;129;01mnot\u001b[39;00m t.writes],\n\u001b[32m   2438\u001b[39m             timeout=\u001b[38;5;28mself\u001b[39m.step_timeout,\n\u001b[32m   2439\u001b[39m             get_waiter=get_waiter,\n\u001b[32m   2440\u001b[39m             schedule_task=loop.accept_push,\n\u001b[32m   2441\u001b[39m         ):\n\u001b[32m   2442\u001b[39m             \u001b[38;5;66;03m# emit output\u001b[39;00m\n\u001b[32m   2443\u001b[39m             \u001b[38;5;28;01myield from\u001b[39;00m output()\n\u001b[32m   2444\u001b[39m \u001b[38;5;66;03m# emit output\u001b[39;00m\n",
      "\u001b[36mFile \u001b[39m\u001b[32md:\\Agentic AI\\my_env\\Lib\\site-packages\\langgraph\\pregel\\runner.py:161\u001b[39m, in \u001b[36mPregelRunner.tick\u001b[39m\u001b[34m(self, tasks, reraise, timeout, retry_policy, get_waiter, schedule_task)\u001b[39m\n\u001b[32m    159\u001b[39m t = tasks[\u001b[32m0\u001b[39m]\n\u001b[32m    160\u001b[39m \u001b[38;5;28;01mtry\u001b[39;00m:\n\u001b[32m--> \u001b[39m\u001b[32m161\u001b[39m     run_with_retry(\n\u001b[32m    162\u001b[39m         t,\n\u001b[32m    163\u001b[39m         retry_policy,\n\u001b[32m    164\u001b[39m         configurable={\n\u001b[32m    165\u001b[39m             CONFIG_KEY_CALL: partial(\n\u001b[32m    166\u001b[39m                 _call,\n\u001b[32m    167\u001b[39m                 weakref.ref(t),\n\u001b[32m    168\u001b[39m                 retry=retry_policy,\n\u001b[32m    169\u001b[39m                 futures=weakref.ref(futures),\n\u001b[32m    170\u001b[39m                 schedule_task=schedule_task,\n\u001b[32m    171\u001b[39m                 submit=\u001b[38;5;28mself\u001b[39m.submit,\n\u001b[32m    172\u001b[39m             ),\n\u001b[32m    173\u001b[39m         },\n\u001b[32m    174\u001b[39m     )\n\u001b[32m    175\u001b[39m     \u001b[38;5;28mself\u001b[39m.commit(t, \u001b[38;5;28;01mNone\u001b[39;00m)\n\u001b[32m    176\u001b[39m \u001b[38;5;28;01mexcept\u001b[39;00m \u001b[38;5;167;01mException\u001b[39;00m \u001b[38;5;28;01mas\u001b[39;00m exc:\n",
      "\u001b[36mFile \u001b[39m\u001b[32md:\\Agentic AI\\my_env\\Lib\\site-packages\\langgraph\\pregel\\retry.py:40\u001b[39m, in \u001b[36mrun_with_retry\u001b[39m\u001b[34m(task, retry_policy, configurable)\u001b[39m\n\u001b[32m     38\u001b[39m     task.writes.clear()\n\u001b[32m     39\u001b[39m     \u001b[38;5;66;03m# run the task\u001b[39;00m\n\u001b[32m---> \u001b[39m\u001b[32m40\u001b[39m     \u001b[38;5;28;01mreturn\u001b[39;00m task.proc.invoke(task.input, config)\n\u001b[32m     41\u001b[39m \u001b[38;5;28;01mexcept\u001b[39;00m ParentCommand \u001b[38;5;28;01mas\u001b[39;00m exc:\n\u001b[32m     42\u001b[39m     ns: \u001b[38;5;28mstr\u001b[39m = config[CONF][CONFIG_KEY_CHECKPOINT_NS]\n",
      "\u001b[36mFile \u001b[39m\u001b[32md:\\Agentic AI\\my_env\\Lib\\site-packages\\langgraph\\utils\\runnable.py:623\u001b[39m, in \u001b[36mRunnableSeq.invoke\u001b[39m\u001b[34m(self, input, config, **kwargs)\u001b[39m\n\u001b[32m    621\u001b[39m     \u001b[38;5;66;03m# run in context\u001b[39;00m\n\u001b[32m    622\u001b[39m     \u001b[38;5;28;01mwith\u001b[39;00m set_config_context(config, run) \u001b[38;5;28;01mas\u001b[39;00m context:\n\u001b[32m--> \u001b[39m\u001b[32m623\u001b[39m         \u001b[38;5;28minput\u001b[39m = context.run(step.invoke, \u001b[38;5;28minput\u001b[39m, config, **kwargs)\n\u001b[32m    624\u001b[39m \u001b[38;5;28;01melse\u001b[39;00m:\n\u001b[32m    625\u001b[39m     \u001b[38;5;28minput\u001b[39m = step.invoke(\u001b[38;5;28minput\u001b[39m, config)\n",
      "\u001b[36mFile \u001b[39m\u001b[32md:\\Agentic AI\\my_env\\Lib\\site-packages\\langgraph\\utils\\runnable.py:377\u001b[39m, in \u001b[36mRunnableCallable.invoke\u001b[39m\u001b[34m(self, input, config, **kwargs)\u001b[39m\n\u001b[32m    375\u001b[39m         run_manager.on_chain_end(ret)\n\u001b[32m    376\u001b[39m \u001b[38;5;28;01melse\u001b[39;00m:\n\u001b[32m--> \u001b[39m\u001b[32m377\u001b[39m     ret = \u001b[38;5;28mself\u001b[39m.func(*args, **kwargs)\n\u001b[32m    378\u001b[39m \u001b[38;5;28;01mif\u001b[39;00m \u001b[38;5;28mself\u001b[39m.recurse \u001b[38;5;129;01mand\u001b[39;00m \u001b[38;5;28misinstance\u001b[39m(ret, Runnable):\n\u001b[32m    379\u001b[39m     \u001b[38;5;28;01mreturn\u001b[39;00m ret.invoke(\u001b[38;5;28minput\u001b[39m, config)\n",
      "\u001b[36mCell\u001b[39m\u001b[36m \u001b[39m\u001b[32mIn[71]\u001b[39m\u001b[32m, line 24\u001b[39m, in \u001b[36mNLP_RAG\u001b[39m\u001b[34m(state)\u001b[39m\n\u001b[32m     14\u001b[39m prompt  = PromptTemplate(\n\u001b[32m     15\u001b[39m     template = template,\n\u001b[32m     16\u001b[39m     input_variables = [\u001b[33m'\u001b[39m\u001b[33muser_question\u001b[39m\u001b[33m'\u001b[39m,\u001b[33m'\u001b[39m\u001b[33mcontext\u001b[39m\u001b[33m'\u001b[39m]\n\u001b[32m     17\u001b[39m )\n\u001b[32m     18\u001b[39m rag_chain = (\n\u001b[32m     19\u001b[39m     {\u001b[33m\"\u001b[39m\u001b[33mcontext\u001b[39m\u001b[33m\"\u001b[39m:retriever|format_docs,\u001b[33m\"\u001b[39m\u001b[33mquestion\u001b[39m\u001b[33m\"\u001b[39m:RunnablePassthrough()}\n\u001b[32m     20\u001b[39m     |prompt\n\u001b[32m     21\u001b[39m     |llm\n\u001b[32m     22\u001b[39m     |StrOutputParser\n\u001b[32m     23\u001b[39m )\n\u001b[32m---> \u001b[39m\u001b[32m24\u001b[39m response  = rag_chain.invoke(user_question)\n\u001b[32m     25\u001b[39m \u001b[38;5;28mprint\u001b[39m(\u001b[33m\"\u001b[39m\u001b[33mResponse from NLP RAG\u001b[39m\u001b[33m\"\u001b[39m,response)\n\u001b[32m     27\u001b[39m \u001b[38;5;28;01mreturn\u001b[39;00m {\u001b[33m\"\u001b[39m\u001b[33mmessages\u001b[39m\u001b[33m\"\u001b[39m:[response]}\n",
      "\u001b[36mFile \u001b[39m\u001b[32md:\\Agentic AI\\my_env\\Lib\\site-packages\\langchain_core\\runnables\\base.py:3047\u001b[39m, in \u001b[36mRunnableSequence.invoke\u001b[39m\u001b[34m(self, input, config, **kwargs)\u001b[39m\n\u001b[32m   3045\u001b[39m                 input_ = context.run(step.invoke, input_, config, **kwargs)\n\u001b[32m   3046\u001b[39m             \u001b[38;5;28;01melse\u001b[39;00m:\n\u001b[32m-> \u001b[39m\u001b[32m3047\u001b[39m                 input_ = context.run(step.invoke, input_, config)\n\u001b[32m   3048\u001b[39m \u001b[38;5;66;03m# finish the root run\u001b[39;00m\n\u001b[32m   3049\u001b[39m \u001b[38;5;28;01mexcept\u001b[39;00m \u001b[38;5;167;01mBaseException\u001b[39;00m \u001b[38;5;28;01mas\u001b[39;00m e:\n",
      "\u001b[36mFile \u001b[39m\u001b[32md:\\Agentic AI\\my_env\\Lib\\site-packages\\langchain_core\\prompts\\base.py:216\u001b[39m, in \u001b[36mBasePromptTemplate.invoke\u001b[39m\u001b[34m(self, input, config, **kwargs)\u001b[39m\n\u001b[32m    214\u001b[39m \u001b[38;5;28;01mif\u001b[39;00m \u001b[38;5;28mself\u001b[39m.tags:\n\u001b[32m    215\u001b[39m     config[\u001b[33m\"\u001b[39m\u001b[33mtags\u001b[39m\u001b[33m\"\u001b[39m] = config[\u001b[33m\"\u001b[39m\u001b[33mtags\u001b[39m\u001b[33m\"\u001b[39m] + \u001b[38;5;28mself\u001b[39m.tags\n\u001b[32m--> \u001b[39m\u001b[32m216\u001b[39m \u001b[38;5;28;01mreturn\u001b[39;00m \u001b[38;5;28mself\u001b[39m._call_with_config(\n\u001b[32m    217\u001b[39m     \u001b[38;5;28mself\u001b[39m._format_prompt_with_error_handling,\n\u001b[32m    218\u001b[39m     \u001b[38;5;28minput\u001b[39m,\n\u001b[32m    219\u001b[39m     config,\n\u001b[32m    220\u001b[39m     run_type=\u001b[33m\"\u001b[39m\u001b[33mprompt\u001b[39m\u001b[33m\"\u001b[39m,\n\u001b[32m    221\u001b[39m     serialized=\u001b[38;5;28mself\u001b[39m._serialized,\n\u001b[32m    222\u001b[39m )\n",
      "\u001b[36mFile \u001b[39m\u001b[32md:\\Agentic AI\\my_env\\Lib\\site-packages\\langchain_core\\runnables\\base.py:1940\u001b[39m, in \u001b[36mRunnable._call_with_config\u001b[39m\u001b[34m(self, func, input_, config, run_type, serialized, **kwargs)\u001b[39m\n\u001b[32m   1936\u001b[39m     child_config = patch_config(config, callbacks=run_manager.get_child())\n\u001b[32m   1937\u001b[39m     \u001b[38;5;28;01mwith\u001b[39;00m set_config_context(child_config) \u001b[38;5;28;01mas\u001b[39;00m context:\n\u001b[32m   1938\u001b[39m         output = cast(\n\u001b[32m   1939\u001b[39m             \u001b[33m\"\u001b[39m\u001b[33mOutput\u001b[39m\u001b[33m\"\u001b[39m,\n\u001b[32m-> \u001b[39m\u001b[32m1940\u001b[39m             context.run(\n\u001b[32m   1941\u001b[39m                 call_func_with_variable_args,  \u001b[38;5;66;03m# type: ignore[arg-type]\u001b[39;00m\n\u001b[32m   1942\u001b[39m                 func,\n\u001b[32m   1943\u001b[39m                 input_,\n\u001b[32m   1944\u001b[39m                 config,\n\u001b[32m   1945\u001b[39m                 run_manager,\n\u001b[32m   1946\u001b[39m                 **kwargs,\n\u001b[32m   1947\u001b[39m             ),\n\u001b[32m   1948\u001b[39m         )\n\u001b[32m   1949\u001b[39m \u001b[38;5;28;01mexcept\u001b[39;00m \u001b[38;5;167;01mBaseException\u001b[39;00m \u001b[38;5;28;01mas\u001b[39;00m e:\n\u001b[32m   1950\u001b[39m     run_manager.on_chain_error(e)\n",
      "\u001b[36mFile \u001b[39m\u001b[32md:\\Agentic AI\\my_env\\Lib\\site-packages\\langchain_core\\runnables\\config.py:428\u001b[39m, in \u001b[36mcall_func_with_variable_args\u001b[39m\u001b[34m(func, input, config, run_manager, **kwargs)\u001b[39m\n\u001b[32m    426\u001b[39m \u001b[38;5;28;01mif\u001b[39;00m run_manager \u001b[38;5;129;01mis\u001b[39;00m \u001b[38;5;129;01mnot\u001b[39;00m \u001b[38;5;28;01mNone\u001b[39;00m \u001b[38;5;129;01mand\u001b[39;00m accepts_run_manager(func):\n\u001b[32m    427\u001b[39m     kwargs[\u001b[33m\"\u001b[39m\u001b[33mrun_manager\u001b[39m\u001b[33m\"\u001b[39m] = run_manager\n\u001b[32m--> \u001b[39m\u001b[32m428\u001b[39m \u001b[38;5;28;01mreturn\u001b[39;00m func(\u001b[38;5;28minput\u001b[39m, **kwargs)\n",
      "\u001b[36mFile \u001b[39m\u001b[32md:\\Agentic AI\\my_env\\Lib\\site-packages\\langchain_core\\prompts\\base.py:189\u001b[39m, in \u001b[36mBasePromptTemplate._format_prompt_with_error_handling\u001b[39m\u001b[34m(self, inner_input)\u001b[39m\n\u001b[32m    188\u001b[39m \u001b[38;5;28;01mdef\u001b[39;00m\u001b[38;5;250m \u001b[39m\u001b[34m_format_prompt_with_error_handling\u001b[39m(\u001b[38;5;28mself\u001b[39m, inner_input: \u001b[38;5;28mdict\u001b[39m) -> PromptValue:\n\u001b[32m--> \u001b[39m\u001b[32m189\u001b[39m     _inner_input = \u001b[38;5;28mself\u001b[39m._validate_input(inner_input)\n\u001b[32m    190\u001b[39m     \u001b[38;5;28;01mreturn\u001b[39;00m \u001b[38;5;28mself\u001b[39m.format_prompt(**_inner_input)\n",
      "\u001b[36mFile \u001b[39m\u001b[32md:\\Agentic AI\\my_env\\Lib\\site-packages\\langchain_core\\prompts\\base.py:183\u001b[39m, in \u001b[36mBasePromptTemplate._validate_input\u001b[39m\u001b[34m(self, inner_input)\u001b[39m\n\u001b[32m    177\u001b[39m     example_key = missing.pop()\n\u001b[32m    178\u001b[39m     msg += (\n\u001b[32m    179\u001b[39m         \u001b[33mf\u001b[39m\u001b[33m\"\u001b[39m\u001b[38;5;130;01m\\n\u001b[39;00m\u001b[33mNote: if you intended \u001b[39m\u001b[38;5;130;01m{{\u001b[39;00m\u001b[38;5;132;01m{\u001b[39;00mexample_key\u001b[38;5;132;01m}\u001b[39;00m\u001b[38;5;130;01m}}\u001b[39;00m\u001b[33m to be part of the string\u001b[39m\u001b[33m\"\u001b[39m\n\u001b[32m    180\u001b[39m         \u001b[33m\"\u001b[39m\u001b[33m and not a variable, please escape it with double curly braces like: \u001b[39m\u001b[33m\"\u001b[39m\n\u001b[32m    181\u001b[39m         \u001b[33mf\u001b[39m\u001b[33m\"\u001b[39m\u001b[33m'\u001b[39m\u001b[38;5;130;01m{{\u001b[39;00m\u001b[38;5;130;01m{{\u001b[39;00m\u001b[38;5;132;01m{\u001b[39;00mexample_key\u001b[38;5;132;01m}\u001b[39;00m\u001b[38;5;130;01m}}\u001b[39;00m\u001b[38;5;130;01m}}\u001b[39;00m\u001b[33m'\u001b[39m\u001b[33m.\u001b[39m\u001b[33m\"\u001b[39m\n\u001b[32m    182\u001b[39m     )\n\u001b[32m--> \u001b[39m\u001b[32m183\u001b[39m     \u001b[38;5;28;01mraise\u001b[39;00m \u001b[38;5;167;01mKeyError\u001b[39;00m(\n\u001b[32m    184\u001b[39m         create_message(message=msg, error_code=ErrorCode.INVALID_PROMPT_INPUT)\n\u001b[32m    185\u001b[39m     )\n\u001b[32m    186\u001b[39m \u001b[38;5;28;01mreturn\u001b[39;00m inner_input\n",
      "\u001b[31mKeyError\u001b[39m: \"Input to PromptTemplate is missing variables {'user_question'}.  Expected: ['context', 'user_question'] Received: ['context', 'question']\\nNote: if you intended {user_question} to be part of the string and not a variable, please escape it with double curly braces like: '{{user_question}}'.\\nFor troubleshooting, visit: https://python.langchain.com/docs/troubleshooting/errors/INVALID_PROMPT_INPUT \"",
      "During task with name 'RAG Call' and id '47528076-3d7b-afca-577e-b0b225b4bee8'"
     ]
    }
   ],
   "source": [
    "state = {\"messages\": [\"What is Natural language processing\"]}\n",
    "app.invoke(state)"
   ]
  }
 ],
 "metadata": {
  "kernelspec": {
   "display_name": "Python 3",
   "language": "python",
   "name": "python3"
  },
  "language_info": {
   "codemirror_mode": {
    "name": "ipython",
    "version": 3
   },
   "file_extension": ".py",
   "mimetype": "text/x-python",
   "name": "python",
   "nbconvert_exporter": "python",
   "pygments_lexer": "ipython3",
   "version": "3.11.11"
  }
 },
 "nbformat": 4,
 "nbformat_minor": 5
}
